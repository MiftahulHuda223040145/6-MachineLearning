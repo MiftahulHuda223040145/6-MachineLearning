{
  "nbformat": 4,
  "nbformat_minor": 0,
  "metadata": {
    "colab": {
      "provenance": []
    },
    "kernelspec": {
      "name": "python3",
      "display_name": "Python 3"
    },
    "language_info": {
      "name": "python"
    }
  },
  "cells": [
    {
      "cell_type": "markdown",
      "source": [
        "# **A**"
      ],
      "metadata": {
        "id": "OT9f6YnwqaEm"
      }
    },
    {
      "cell_type": "markdown",
      "source": [
        "Tuple"
      ],
      "metadata": {
        "id": "urGaZA8q0aru"
      }
    },
    {
      "cell_type": "code",
      "source": [
        "import numpy as np\n",
        "\n",
        "# Data dalam bentuk tuple\n",
        "data_tuple = (7, 5, 8, 6, 9, 7, 10)\n",
        "\n",
        "# Menghitung statistik\n",
        "mean_value = np.mean(data_tuple)       # Rata-rata\n",
        "std_dev = np.std(data_tuple, ddof=1)   # Standar deviasi\n",
        "median_value = np.median(data_tuple)   # Median\n",
        "q1 = np.percentile(data_tuple, 25)     # Kuartil 1 (Q1)\n",
        "q3 = np.percentile(data_tuple, 75)     # Kuartil 3 (Q3)\n",
        "\n",
        "# Menampilkan hasil\n",
        "print(f\"Tuple - Mean    : {mean_value}\")\n",
        "print(f\"Tuple - Std Dev : {std_dev}\")\n",
        "print(f\"Tuple - Median  : {median_value}\")\n",
        "print(f\"Tuple - Q1      : {q1}\")\n",
        "print(f\"Tuple - Q3      : {q3}\")"
      ],
      "metadata": {
        "colab": {
          "base_uri": "https://localhost:8080/"
        },
        "id": "wYKbmLUA0b3V",
        "outputId": "fb464766-269d-4806-d118-5f0d4b13cea3"
      },
      "execution_count": null,
      "outputs": [
        {
          "output_type": "stream",
          "name": "stdout",
          "text": [
            "Tuple - Mean    : 7.428571428571429\n",
            "Tuple - Std Dev : 1.7182493859684491\n",
            "Tuple - Median  : 7.0\n",
            "Tuple - Q1      : 6.5\n",
            "Tuple - Q3      : 8.5\n"
          ]
        }
      ]
    },
    {
      "cell_type": "markdown",
      "source": [
        "Numphys Array"
      ],
      "metadata": {
        "id": "2aiKybg90evN"
      }
    },
    {
      "cell_type": "code",
      "source": [
        "# Data dalam bentuk NumPy Array\n",
        "data_numpy = np.array([7, 5, 8, 6, 9, 7, 10])\n",
        "\n",
        "# Menghitung statistik\n",
        "mean_value = np.mean(data_numpy)\n",
        "std_dev = np.std(data_numpy, ddof=1)\n",
        "median_value = np.median(data_numpy)\n",
        "q1 = np.percentile(data_numpy, 25)\n",
        "q3 = np.percentile(data_numpy, 75)\n",
        "\n",
        "# Menampilkan hasil\n",
        "print(f\"NumPy - Mean    : {mean_value}\")\n",
        "print(f\"NumPy - Std Dev : {std_dev}\")\n",
        "print(f\"NumPy - Median  : {median_value}\")\n",
        "print(f\"NumPy - Q1      : {q1}\")\n",
        "print(f\"NumPy - Q3      : {q3}\")"
      ],
      "metadata": {
        "colab": {
          "base_uri": "https://localhost:8080/"
        },
        "id": "b4r2B46K0go1",
        "outputId": "f9f02a72-42af-45d3-8196-8e91aa9af40d"
      },
      "execution_count": null,
      "outputs": [
        {
          "output_type": "stream",
          "name": "stdout",
          "text": [
            "NumPy - Mean    : 7.428571428571429\n",
            "NumPy - Std Dev : 1.7182493859684491\n",
            "NumPy - Median  : 7.0\n",
            "NumPy - Q1      : 6.5\n",
            "NumPy - Q3      : 8.5\n"
          ]
        }
      ]
    },
    {
      "cell_type": "markdown",
      "source": [
        "List"
      ],
      "metadata": {
        "id": "gmEpv3BI0g9N"
      }
    },
    {
      "cell_type": "code",
      "source": [
        "import statistics\n",
        "\n",
        "# Data dalam bentuk List\n",
        "data_list = [7, 5, 8, 6, 9, 7, 10]\n",
        "\n",
        "# Menghitung statistik\n",
        "mean_value = statistics.mean(data_list)\n",
        "std_dev = statistics.stdev(data_list)\n",
        "median_value = statistics.median(data_list)\n",
        "q1 = statistics.median(sorted(data_list)[:len(data_list)//2])  # Q1\n",
        "q3 = statistics.median(sorted(data_list)[len(data_list)//2:])  # Q3\n",
        "\n",
        "# Menampilkan hasil\n",
        "print(f\"List - Mean    : {mean_value}\")\n",
        "print(f\"List - Std Dev : {std_dev}\")\n",
        "print(f\"List - Median  : {median_value}\")\n",
        "print(f\"List - Q1      : {q1}\")\n",
        "print(f\"List - Q3      : {q3}\")"
      ],
      "metadata": {
        "colab": {
          "base_uri": "https://localhost:8080/"
        },
        "id": "CRg3PeNv0ifu",
        "outputId": "f9ef1486-1767-4573-9f24-d7407ea98598"
      },
      "execution_count": null,
      "outputs": [
        {
          "output_type": "stream",
          "name": "stdout",
          "text": [
            "List - Mean    : 7.428571428571429\n",
            "List - Std Dev : 1.7182493859684491\n",
            "List - Median  : 7\n",
            "List - Q1      : 6\n",
            "List - Q3      : 8.5\n"
          ]
        }
      ]
    },
    {
      "cell_type": "markdown",
      "source": [
        "Dataframe Source Code"
      ],
      "metadata": {
        "id": "KXnWhaC50jP9"
      }
    },
    {
      "cell_type": "code",
      "source": [
        "import pandas as pd\n",
        "\n",
        "# Membuat DataFrame\n",
        "df = pd.DataFrame({'Nilai': [7, 5, 8, 6, 9, 7, 10]})\n",
        "\n",
        "# Menghitung statistik\n",
        "mean_value = df['Nilai'].mean()\n",
        "std_dev = df['Nilai'].std()\n",
        "median_value = df['Nilai'].median()\n",
        "q1 = df['Nilai'].quantile(0.25)\n",
        "q3 = df['Nilai'].quantile(0.75)\n",
        "\n",
        "# Menampilkan hasil\n",
        "print(f\"DataFrame (Source Code) - Mean    : {mean_value}\")\n",
        "print(f\"DataFrame (Source Code) - Std Dev : {std_dev}\")\n",
        "print(f\"DataFrame (Source Code) - Median  : {median_value}\")\n",
        "print(f\"DataFrame (Source Code) - Q1      : {q1}\")\n",
        "print(f\"DataFrame (Source Code) - Q3      : {q3}\")"
      ],
      "metadata": {
        "colab": {
          "base_uri": "https://localhost:8080/"
        },
        "id": "3s9BT-s_0mzF",
        "outputId": "8ab622e4-7e9b-4216-f139-eb5c031c986c"
      },
      "execution_count": null,
      "outputs": [
        {
          "output_type": "stream",
          "name": "stdout",
          "text": [
            "DataFrame (Source Code) - Mean    : 7.428571428571429\n",
            "DataFrame (Source Code) - Std Dev : 1.7182493859684491\n",
            "DataFrame (Source Code) - Median  : 7.0\n",
            "DataFrame (Source Code) - Q1      : 6.5\n",
            "DataFrame (Source Code) - Q3      : 8.5\n"
          ]
        }
      ]
    },
    {
      "cell_type": "markdown",
      "source": [
        "Dataframe File"
      ],
      "metadata": {
        "id": "3d_ejGQlqmBG"
      }
    },
    {
      "cell_type": "code",
      "execution_count": null,
      "metadata": {
        "colab": {
          "base_uri": "https://localhost:8080/"
        },
        "id": "IvJ7V1ulosII",
        "outputId": "808531ba-2052-44cd-ba0c-d54f31cb5ded"
      },
      "outputs": [
        {
          "output_type": "stream",
          "name": "stdout",
          "text": [
            "File telah disimpan di /content/data_nilai.csv\n"
          ]
        }
      ],
      "source": [
        "import pandas as pd\n",
        "\n",
        "# Buat DataFrame dengan data\n",
        "df = pd.DataFrame({'nilai': [7, 5, 8, 6, 9, 7, 10]})\n",
        "\n",
        "# Simpan ke dalam file CSV\n",
        "file_path = \"/content/data_nilai.csv\"\n",
        "df.to_csv(file_path, index=False)\n",
        "\n",
        "print(f\"File telah disimpan di {file_path}\")"
      ]
    },
    {
      "cell_type": "code",
      "source": [
        "# Baca data dari file CSV\n",
        "df_baca = pd.read_csv(\"/content/data_nilai.csv\")\n",
        "\n",
        "# Menghitung statistik deskriptif\n",
        "mean_value = df_baca['nilai'].mean()      # Rata-rata\n",
        "std_dev = df_baca['nilai'].std()          # Standar deviasi\n",
        "median_value = df_baca['nilai'].median()  # Median\n",
        "q1 = df_baca['nilai'].quantile(0.25)      # Kuartil 1 (Q1)\n",
        "q3 = df_baca['nilai'].quantile(0.75)      # Kuartil 3 (Q3)\n",
        "\n",
        "# Menampilkan hasil\n",
        "print(f\"Rata-rata (Mean)    : {mean_value}\")\n",
        "print(f\"Standar Deviasi     : {std_dev}\")\n",
        "print(f\"Median              : {median_value}\")\n",
        "print(f\"Kuartil 1 (Q1)      : {q1}\")\n",
        "print(f\"Kuartil 3 (Q3)      : {q3}\")"
      ],
      "metadata": {
        "colab": {
          "base_uri": "https://localhost:8080/"
        },
        "id": "l1O_2dRcqNv2",
        "outputId": "db152669-9a9a-4490-a9db-bd3c061d5f00"
      },
      "execution_count": null,
      "outputs": [
        {
          "output_type": "stream",
          "name": "stdout",
          "text": [
            "Rata-rata (Mean)    : 7.428571428571429\n",
            "Standar Deviasi     : 1.7182493859684491\n",
            "Median              : 7.0\n",
            "Kuartil 1 (Q1)      : 6.5\n",
            "Kuartil 3 (Q3)      : 8.5\n"
          ]
        }
      ]
    },
    {
      "cell_type": "markdown",
      "source": [
        "# **B**"
      ],
      "metadata": {
        "id": "X_Fxtdmcqtv2"
      }
    },
    {
      "cell_type": "markdown",
      "source": [
        "Tuple"
      ],
      "metadata": {
        "id": "nt0vf2Op0zD9"
      }
    },
    {
      "cell_type": "code",
      "source": [
        "import numpy as np\n",
        "\n",
        "# Data dalam bentuk tuple\n",
        "data_tuple = (7, 8, 6, 9, 7, 10)\n",
        "\n",
        "# Menghitung statistik\n",
        "mean_value = np.mean(data_tuple)       # Rata-rata\n",
        "std_dev = np.std(data_tuple, ddof=1)   # Standar deviasi sampel\n",
        "median_value = np.median(data_tuple)   # Median\n",
        "q1 = np.percentile(data_tuple, 25)     # Kuartil 1 (Q1)\n",
        "q3 = np.percentile(data_tuple, 75)     # Kuartil 3 (Q3)\n",
        "\n",
        "# Menampilkan hasil\n",
        "print(f\"Tuple - Mean    : {mean_value}\")\n",
        "print(f\"Tuple - Std Dev : {std_dev}\")\n",
        "print(f\"Tuple - Median  : {median_value}\")\n",
        "print(f\"Tuple - Q1      : {q1}\")\n",
        "print(f\"Tuple - Q3      : {q3}\")"
      ],
      "metadata": {
        "colab": {
          "base_uri": "https://localhost:8080/"
        },
        "id": "FbZ0Eu4k07bO",
        "outputId": "5b11f009-ab41-49ab-c6bc-75d49fdfb141"
      },
      "execution_count": null,
      "outputs": [
        {
          "output_type": "stream",
          "name": "stdout",
          "text": [
            "Tuple - Mean    : 7.833333333333333\n",
            "Tuple - Std Dev : 1.4719601443879744\n",
            "Tuple - Median  : 7.5\n",
            "Tuple - Q1      : 7.0\n",
            "Tuple - Q3      : 8.75\n"
          ]
        }
      ]
    },
    {
      "cell_type": "markdown",
      "source": [
        "Numphys Array"
      ],
      "metadata": {
        "id": "cDzoD4ms00WF"
      }
    },
    {
      "cell_type": "code",
      "source": [
        "# Data dalam bentuk NumPy Array\n",
        "data_numpy = np.array([7, 8, 6, 9, 7, 10])\n",
        "\n",
        "# Menghitung statistik\n",
        "mean_value = np.mean(data_numpy)\n",
        "std_dev = np.std(data_numpy, ddof=1)\n",
        "median_value = np.median(data_numpy)\n",
        "q1 = np.percentile(data_numpy, 25)\n",
        "q3 = np.percentile(data_numpy, 75)\n",
        "\n",
        "# Menampilkan hasil\n",
        "print(f\"NumPy - Mean    : {mean_value}\")\n",
        "print(f\"NumPy - Std Dev : {std_dev}\")\n",
        "print(f\"NumPy - Median  : {median_value}\")\n",
        "print(f\"NumPy - Q1      : {q1}\")\n",
        "print(f\"NumPy - Q3      : {q3}\")"
      ],
      "metadata": {
        "colab": {
          "base_uri": "https://localhost:8080/"
        },
        "id": "yP11EV8F076N",
        "outputId": "b13167a3-60c7-40a0-aac4-7ba9548f7b1f"
      },
      "execution_count": null,
      "outputs": [
        {
          "output_type": "stream",
          "name": "stdout",
          "text": [
            "NumPy - Mean    : 7.833333333333333\n",
            "NumPy - Std Dev : 1.4719601443879744\n",
            "NumPy - Median  : 7.5\n",
            "NumPy - Q1      : 7.0\n",
            "NumPy - Q3      : 8.75\n"
          ]
        }
      ]
    },
    {
      "cell_type": "markdown",
      "source": [
        "List"
      ],
      "metadata": {
        "id": "peWd1XgA012l"
      }
    },
    {
      "cell_type": "code",
      "source": [
        "import statistics\n",
        "\n",
        "# Data dalam bentuk List\n",
        "data_list = [7, 8, 6, 9, 7, 10]\n",
        "\n",
        "# Menghitung statistik\n",
        "mean_value = statistics.mean(data_list)\n",
        "std_dev = statistics.stdev(data_list)\n",
        "median_value = statistics.median(data_list)\n",
        "q1 = statistics.median(sorted(data_list)[:len(data_list)//2])  # Q1\n",
        "q3 = statistics.median(sorted(data_list)[len(data_list)//2:])  # Q3\n",
        "\n",
        "# Menampilkan hasil\n",
        "print(f\"List - Mean    : {mean_value}\")\n",
        "print(f\"List - Std Dev : {std_dev}\")\n",
        "print(f\"List - Median  : {median_value}\")\n",
        "print(f\"List - Q1      : {q1}\")\n",
        "print(f\"List - Q3      : {q3}\")"
      ],
      "metadata": {
        "colab": {
          "base_uri": "https://localhost:8080/"
        },
        "id": "vBj57nod08S9",
        "outputId": "e89fb858-2072-4f7a-b00e-d4647db5d3ad"
      },
      "execution_count": null,
      "outputs": [
        {
          "output_type": "stream",
          "name": "stdout",
          "text": [
            "List - Mean    : 7.833333333333333\n",
            "List - Std Dev : 1.4719601443879744\n",
            "List - Median  : 7.5\n",
            "List - Q1      : 7\n",
            "List - Q3      : 9\n"
          ]
        }
      ]
    },
    {
      "cell_type": "markdown",
      "source": [
        "Dataframe Source Code"
      ],
      "metadata": {
        "id": "itqLpcSJ03sV"
      }
    },
    {
      "cell_type": "code",
      "source": [
        "import pandas as pd\n",
        "\n",
        "# Membuat DataFrame\n",
        "df = pd.DataFrame({'Nilai': [7, 8, 6, 9, 7, 10]})\n",
        "\n",
        "# Menghitung statistik\n",
        "mean_value = df['Nilai'].mean()\n",
        "std_dev = df['Nilai'].std()\n",
        "median_value = df['Nilai'].median()\n",
        "q1 = df['Nilai'].quantile(0.25)\n",
        "q3 = df['Nilai'].quantile(0.75)\n",
        "\n",
        "# Menampilkan hasil\n",
        "print(f\"DataFrame (Source Code) - Mean    : {mean_value}\")\n",
        "print(f\"DataFrame (Source Code) - Std Dev : {std_dev}\")\n",
        "print(f\"DataFrame (Source Code) - Median  : {median_value}\")\n",
        "print(f\"DataFrame (Source Code) - Q1      : {q1}\")\n",
        "print(f\"DataFrame (Source Code) - Q3      : {q3}\")"
      ],
      "metadata": {
        "colab": {
          "base_uri": "https://localhost:8080/"
        },
        "id": "r5dqG8St08xl",
        "outputId": "f90a07e1-70df-4e25-ac7f-6c5ad8ce6826"
      },
      "execution_count": null,
      "outputs": [
        {
          "output_type": "stream",
          "name": "stdout",
          "text": [
            "DataFrame (Source Code) - Mean    : 7.833333333333333\n",
            "DataFrame (Source Code) - Std Dev : 1.4719601443879744\n",
            "DataFrame (Source Code) - Median  : 7.5\n",
            "DataFrame (Source Code) - Q1      : 7.0\n",
            "DataFrame (Source Code) - Q3      : 8.75\n"
          ]
        }
      ]
    },
    {
      "cell_type": "markdown",
      "source": [
        "Dataframe File"
      ],
      "metadata": {
        "id": "_1gDnUkAvk6i"
      }
    },
    {
      "cell_type": "code",
      "source": [
        "import pandas as pd\n",
        "\n",
        "# Buat DataFrame dengan data\n",
        "df = pd.DataFrame({'nilai': [7, 8, 6, 9, 7, 10]})\n",
        "\n",
        "# Simpan ke dalam file CSV\n",
        "file_path = \"/content/data_nilai.csv\"\n",
        "df.to_csv(file_path, index=False)\n",
        "\n",
        "print(f\"File telah disimpan di {file_path}\")"
      ],
      "metadata": {
        "colab": {
          "base_uri": "https://localhost:8080/"
        },
        "id": "ZPVjecELqvpl",
        "outputId": "907bdc94-5707-4ee9-f49b-9cca8c1c98ac"
      },
      "execution_count": null,
      "outputs": [
        {
          "output_type": "stream",
          "name": "stdout",
          "text": [
            "File telah disimpan di /content/data_nilai.csv\n"
          ]
        }
      ]
    },
    {
      "cell_type": "code",
      "source": [
        "# Baca data dari file CSV\n",
        "df_baca = pd.read_csv(\"/content/data_nilai.csv\")\n",
        "\n",
        "# Menghitung statistik deskriptif\n",
        "mean_value = df_baca['nilai'].mean()      # Rata-rata\n",
        "std_dev = df_baca['nilai'].std()          # Standar deviasi\n",
        "median_value = df_baca['nilai'].median()  # Median\n",
        "q1 = df_baca['nilai'].quantile(0.25)      # Kuartil 1 (Q1)\n",
        "q3 = df_baca['nilai'].quantile(0.75)      # Kuartil 3 (Q3)\n",
        "\n",
        "# Menampilkan hasil\n",
        "print(f\"Rata-rata (Mean)    : {mean_value}\")\n",
        "print(f\"Standar Deviasi     : {std_dev}\")\n",
        "print(f\"Median              : {median_value}\")\n",
        "print(f\"Kuartil 1 (Q1)      : {q1}\")\n",
        "print(f\"Kuartil 3 (Q3)      : {q3}\")"
      ],
      "metadata": {
        "colab": {
          "base_uri": "https://localhost:8080/"
        },
        "id": "uKY_Yu68rBvV",
        "outputId": "3c19ba5e-eae1-48bd-9300-d7b042dca281"
      },
      "execution_count": null,
      "outputs": [
        {
          "output_type": "stream",
          "name": "stdout",
          "text": [
            "Rata-rata (Mean)    : 7.833333333333333\n",
            "Standar Deviasi     : 1.4719601443879744\n",
            "Median              : 7.5\n",
            "Kuartil 1 (Q1)      : 7.0\n",
            "Kuartil 3 (Q3)      : 8.75\n"
          ]
        }
      ]
    },
    {
      "cell_type": "markdown",
      "source": [
        "# **Nilai dan Frekuensi**"
      ],
      "metadata": {
        "id": "C-Ih-FtVvOG6"
      }
    },
    {
      "cell_type": "markdown",
      "source": [
        "Tuple"
      ],
      "metadata": {
        "id": "Hyg1AyKiyaHP"
      }
    },
    {
      "cell_type": "code",
      "source": [
        "import numpy as np\n",
        "\n",
        "# Data dalam bentuk tuple (sesuai frekuensi)\n",
        "data = (3, 3, 6, 6, 6, 7, 9, 9, 9, 9)\n",
        "\n",
        "# Menghitung statistik\n",
        "mean_value = np.mean(data)       # Rata-rata\n",
        "std_dev = np.std(data, ddof=1)   # Standar deviasi (ddof=1 untuk sampel)\n",
        "median_value = np.median(data)   # Median\n",
        "q1 = np.percentile(data, 25)     # Kuartil 1 (Q1)\n",
        "q3 = np.percentile(data, 75)     # Kuartil 3 (Q3)\n",
        "\n",
        "# Menampilkan hasil\n",
        "print(f\"Tuple - Rata-rata (Mean)    : {mean_value}\")\n",
        "print(f\"Tuple - Standar Deviasi     : {std_dev}\")\n",
        "print(f\"Tuple - Median              : {median_value}\")\n",
        "print(f\"Tuple - Kuartil 1 (Q1)      : {q1}\")\n",
        "print(f\"Tuple - Kuartil 3 (Q3)      : {q3}\")"
      ],
      "metadata": {
        "colab": {
          "base_uri": "https://localhost:8080/"
        },
        "id": "pQZxVsU5ySrv",
        "outputId": "fcadf1cc-9fc3-4f6f-da71-4bc819e7f5db"
      },
      "execution_count": null,
      "outputs": [
        {
          "output_type": "stream",
          "name": "stdout",
          "text": [
            "Tuple - Rata-rata (Mean)    : 6.7\n",
            "Tuple - Standar Deviasi     : 2.359378449224852\n",
            "Tuple - Median              : 6.5\n",
            "Tuple - Kuartil 1 (Q1)      : 6.0\n",
            "Tuple - Kuartil 3 (Q3)      : 9.0\n"
          ]
        }
      ]
    },
    {
      "cell_type": "markdown",
      "source": [
        "Numphys Array"
      ],
      "metadata": {
        "id": "BGYa6-bnycD_"
      }
    },
    {
      "cell_type": "code",
      "source": [
        "import numpy as np\n",
        "\n",
        "# Data dalam bentuk NumPy array (sesuai frekuensi)\n",
        "data = np.array([3, 3, 6, 6, 6, 7, 9, 9, 9, 9])\n",
        "\n",
        "# Menghitung statistik\n",
        "mean_value = np.mean(data)       # Rata-rata\n",
        "std_dev = np.std(data, ddof=1)   # Standar deviasi (ddof=1 untuk sampel)\n",
        "median_value = np.median(data)   # Median\n",
        "q1 = np.percentile(data, 25)     # Kuartil 1 (Q1)\n",
        "q3 = np.percentile(data, 75)     # Kuartil 3 (Q3)\n",
        "\n",
        "# Menampilkan hasil\n",
        "print(f\"NumPy Array - Rata-rata (Mean)    : {mean_value}\")\n",
        "print(f\"NumPy Array - Standar Deviasi     : {std_dev}\")\n",
        "print(f\"NumPy Array - Median              : {median_value}\")\n",
        "print(f\"NumPy Array - Kuartil 1 (Q1)      : {q1}\")\n",
        "print(f\"NumPy Array - Kuartil 3 (Q3)      : {q3}\")"
      ],
      "metadata": {
        "colab": {
          "base_uri": "https://localhost:8080/"
        },
        "id": "z26TtJ53yfjX",
        "outputId": "24e49d38-6410-4f8c-9851-8069934443a9"
      },
      "execution_count": null,
      "outputs": [
        {
          "output_type": "stream",
          "name": "stdout",
          "text": [
            "NumPy Array - Rata-rata (Mean)    : 6.7\n",
            "NumPy Array - Standar Deviasi     : 2.359378449224852\n",
            "NumPy Array - Median              : 6.5\n",
            "NumPy Array - Kuartil 1 (Q1)      : 6.0\n",
            "NumPy Array - Kuartil 3 (Q3)      : 9.0\n"
          ]
        }
      ]
    },
    {
      "cell_type": "markdown",
      "source": [
        "List"
      ],
      "metadata": {
        "id": "zo2ILSnQytkX"
      }
    },
    {
      "cell_type": "code",
      "source": [
        "import statistics\n",
        "\n",
        "# Data dalam bentuk list (sesuai frekuensi)\n",
        "data = [3, 3, 6, 6, 6, 7, 9, 9, 9, 9]\n",
        "\n",
        "# Menghitung statistik\n",
        "mean_value = statistics.mean(data)      # Rata-rata\n",
        "std_dev = statistics.stdev(data)        # Standar deviasi sampel\n",
        "median_value = statistics.median(data)  # Median\n",
        "q1 = statistics.median(data[:len(data)//2])   # Kuartil 1 (Q1)\n",
        "q3 = statistics.median(data[len(data)//2:])   # Kuartil 3 (Q3)\n",
        "\n",
        "# Menampilkan hasil\n",
        "print(f\"List - Rata-rata (Mean)    : {mean_value}\")\n",
        "print(f\"List - Standar Deviasi     : {std_dev}\")\n",
        "print(f\"List - Median              : {median_value}\")\n",
        "print(f\"List - Kuartil 1 (Q1)      : {q1}\")\n",
        "print(f\"List - Kuartil 3 (Q3)      : {q3}\")"
      ],
      "metadata": {
        "colab": {
          "base_uri": "https://localhost:8080/"
        },
        "id": "KNFIjZpGyuzH",
        "outputId": "2c5440d5-ff1b-48b0-ed00-69b32e0578ce"
      },
      "execution_count": null,
      "outputs": [
        {
          "output_type": "stream",
          "name": "stdout",
          "text": [
            "List - Rata-rata (Mean)    : 6.7\n",
            "List - Standar Deviasi     : 2.359378449224852\n",
            "List - Median              : 6.5\n",
            "List - Kuartil 1 (Q1)      : 6\n",
            "List - Kuartil 3 (Q3)      : 9\n"
          ]
        }
      ]
    },
    {
      "cell_type": "markdown",
      "source": [
        "Dataframe Source Code"
      ],
      "metadata": {
        "id": "PO5nAc85zSXv"
      }
    },
    {
      "cell_type": "code",
      "source": [
        "import pandas as pd\n",
        "\n",
        "# Membuat DataFrame\n",
        "df = pd.DataFrame({\n",
        "    'Nilai': [3, 6, 7, 9],\n",
        "    'Frekuensi': [2, 3, 1, 4]\n",
        "})\n",
        "\n",
        "# Memperluas data berdasarkan frekuensi\n",
        "data_expanded = df.loc[df.index.repeat(df['Frekuensi'])]['Nilai']\n",
        "\n",
        "# Menghitung statistik\n",
        "mean_value = data_expanded.mean()      # Rata-rata\n",
        "std_dev = data_expanded.std()          # Standar deviasi\n",
        "median_value = data_expanded.median()  # Median\n",
        "q1 = data_expanded.quantile(0.25)      # Kuartil 1 (Q1)\n",
        "q3 = data_expanded.quantile(0.75)      # Kuartil 3 (Q3)\n",
        "\n",
        "# Menampilkan hasil\n",
        "print(f\"DataFrame - Rata-rata (Mean)    : {mean_value}\")\n",
        "print(f\"DataFrame - Standar Deviasi     : {std_dev}\")\n",
        "print(f\"DataFrame - Median              : {median_value}\")\n",
        "print(f\"DataFrame - Kuartil 1 (Q1)      : {q1}\")\n",
        "print(f\"DataFrame - Kuartil 3 (Q3)      : {q3}\")"
      ],
      "metadata": {
        "colab": {
          "base_uri": "https://localhost:8080/"
        },
        "id": "iLR9FdvWzUy_",
        "outputId": "6eceecf3-beed-486e-f76a-cd5042775eea"
      },
      "execution_count": null,
      "outputs": [
        {
          "output_type": "stream",
          "name": "stdout",
          "text": [
            "DataFrame - Rata-rata (Mean)    : 6.7\n",
            "DataFrame - Standar Deviasi     : 2.359378449224852\n",
            "DataFrame - Median              : 6.5\n",
            "DataFrame - Kuartil 1 (Q1)      : 6.0\n",
            "DataFrame - Kuartil 3 (Q3)      : 9.0\n"
          ]
        }
      ]
    },
    {
      "cell_type": "markdown",
      "source": [
        "Dataframe File"
      ],
      "metadata": {
        "id": "vF78g59BvqxB"
      }
    },
    {
      "cell_type": "code",
      "source": [
        "import pandas as pd\n",
        "\n",
        "# Buat DataFrame dengan data\n",
        "df = pd.DataFrame({\n",
        "    'Nilai': [3, 6, 7, 9],\n",
        "    'Frekuensi': [2, 3, 1, 4]\n",
        "})\n",
        "\n",
        "# Simpan ke dalam file CSV\n",
        "file_path = \"/content/data_nilai.csv\"\n",
        "df.to_csv(file_path, index=False)\n",
        "\n",
        "print(f\"File telah disimpan di {file_path}\")"
      ],
      "metadata": {
        "colab": {
          "base_uri": "https://localhost:8080/"
        },
        "id": "nuJeaks4vVAh",
        "outputId": "ff9fda4f-978a-4406-e7d2-f2a3a1be086c"
      },
      "execution_count": null,
      "outputs": [
        {
          "output_type": "stream",
          "name": "stdout",
          "text": [
            "File telah disimpan di /content/data_nilai.csv\n"
          ]
        }
      ]
    },
    {
      "cell_type": "code",
      "source": [
        "# Baca data dari file CSV\n",
        "df_baca = pd.read_csv(\"/content/data_nilai.csv\")\n",
        "\n",
        "# Perluas data berdasarkan frekuensi\n",
        "data_expanded = df_baca.loc[df_baca.index.repeat(df_baca['Frekuensi'])]['Nilai']\n",
        "\n",
        "# Menghitung statistik\n",
        "mean_value = data_expanded.mean()      # Rata-rata\n",
        "std_dev = data_expanded.std()          # Standar deviasi\n",
        "median_value = data_expanded.median()  # Median\n",
        "q1 = data_expanded.quantile(0.25)      # Kuartil 1 (Q1)\n",
        "q3 = data_expanded.quantile(0.75)      # Kuartil 3 (Q3)\n",
        "\n",
        "# Menampilkan hasil\n",
        "print(f\"Rata-rata (Mean)    : {mean_value}\")\n",
        "print(f\"Standar Deviasi     : {std_dev}\")\n",
        "print(f\"Median              : {median_value}\")\n",
        "print(f\"Kuartil 1 (Q1)      : {q1}\")\n",
        "print(f\"Kuartil 3 (Q3)      : {q3}\")"
      ],
      "metadata": {
        "colab": {
          "base_uri": "https://localhost:8080/"
        },
        "id": "PSGpVTkBvx_B",
        "outputId": "b8124b6c-b3ae-4ab8-a91a-5e74fca4c62e"
      },
      "execution_count": null,
      "outputs": [
        {
          "output_type": "stream",
          "name": "stdout",
          "text": [
            "Rata-rata (Mean)    : 6.7\n",
            "Standar Deviasi     : 2.359378449224852\n",
            "Median              : 6.5\n",
            "Kuartil 1 (Q1)      : 6.0\n",
            "Kuartil 3 (Q3)      : 9.0\n"
          ]
        }
      ]
    }
  ]
}